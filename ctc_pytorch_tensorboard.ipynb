{
  "cells": [
    {
      "cell_type": "markdown",
      "metadata": {
        "id": "1SuM5udVEigf"
      },
      "source": [
        "# 导入必要的库"
      ]
    },
    {
      "cell_type": "code",
      "execution_count": 1,
      "metadata": {
        "ExecuteTime": {
          "end_time": "2019-06-30T12:00:55.727033Z",
          "start_time": "2019-06-30T12:00:55.055243Z"
        },
        "id": "iLV2jk-rEigj",
        "outputId": "9b0db562-9882-40e1-84f7-dbc6b40de4e4"
      },
      "outputs": [
        {
          "name": "stdout",
          "output_type": "stream",
          "text": [
            "-0123456789ABCDEFGHIJKLMNOPQRSTUVWXYZ 192 64 4 37\n",
            "Using matplotlib backend: <object object at 0x0000024F1924AA90>\n"
          ]
        }
      ],
      "source": [
        "import torch\n",
        "import torch.nn as nn\n",
        "import torch.nn.functional as F\n",
        "from torch.utils.data import Dataset, DataLoader\n",
        "from torchvision.transforms.functional import to_tensor, to_pil_image\n",
        "\n",
        "from tensorboardX import SummaryWriter\n",
        "import time\n",
        "import matplotlib.pyplot as plt\n",
        "\n",
        "from captcha.image import ImageCaptcha\n",
        "from tqdm import tqdm\n",
        "import random\n",
        "import numpy as np\n",
        "from collections import OrderedDict\n",
        "\n",
        "import string\n",
        "characters = '-' + string.digits + string.ascii_uppercase\n",
        "width, height, n_len, n_classes = 192, 64, 4, len(characters)\n",
        "n_input_length = 12\n",
        "print(characters, width, height, n_len, n_classes)\n",
        "\n",
        "%matplotlib auto"
      ]
    },
    {
      "cell_type": "markdown",
      "metadata": {
        "id": "F58sgLhOEigl"
      },
      "source": [
        "# 搭建数据集"
      ]
    },
    {
      "cell_type": "code",
      "execution_count": 2,
      "metadata": {
        "ExecuteTime": {
          "end_time": "2019-06-30T12:00:55.731929Z",
          "start_time": "2019-06-30T12:00:55.728137Z"
        },
        "id": "C2LNSa5JEigl"
      },
      "outputs": [],
      "source": [
        "class CaptchaDataset(Dataset):\n",
        "    def __init__(self, characters, length, width, height, input_length, label_length):\n",
        "        super(CaptchaDataset, self).__init__()\n",
        "        self.characters = characters\n",
        "        self.length = length\n",
        "        self.width = width\n",
        "        self.height = height\n",
        "        self.input_length = input_length\n",
        "        self.label_length = label_length\n",
        "        self.n_class = len(characters)\n",
        "        self.generator = ImageCaptcha(width=width, height=height)\n",
        "\n",
        "    def __len__(self):\n",
        "        return self.length\n",
        "    \n",
        "    def __getitem__(self, index):\n",
        "        random_str = ''.join([random.choice(self.characters[1:]) for j in range(self.label_length)]) # 随机生成字符串\n",
        "        image = to_tensor(self.generator.generate_image(random_str)) # 生成图片\n",
        "        target = torch.tensor([self.characters.find(x) for x in random_str], dtype=torch.long) # 得到目标的标签\n",
        "        input_length = torch.full(size=(1, ), fill_value=self.input_length, dtype=torch.long) \n",
        "        target_length = torch.full(size=(1, ), fill_value=self.label_length, dtype=torch.long) # 输出的长度就是标签的长度\n",
        "        return image, target, input_length, target_length"
      ]
    },
    {
      "cell_type": "markdown",
      "metadata": {
        "id": "o0toeY4fEigm"
      },
      "source": [
        "# 测试数据集"
      ]
    },
    {
      "cell_type": "code",
      "execution_count": 20,
      "metadata": {
        "ExecuteTime": {
          "end_time": "2019-06-30T12:00:55.759892Z",
          "start_time": "2019-06-30T12:00:55.732840Z"
        },
        "id": "_Ka31luDEigm",
        "outputId": "8a76eccd-0ac2-4858-c91b-be543ff66b49"
      },
      "outputs": [
        {
          "name": "stdout",
          "output_type": "stream",
          "text": [
            "JLRK tensor([12]) tensor([4])\n"
          ]
        },
        {
          "data": {
            "image/png": "[encoded data removed]",
            "text/plain": [
              "<PIL.Image.Image image mode=RGB size=192x64 at 0x24F7D67B1F0>"
            ]
          },
          "execution_count": 20,
          "metadata": {},
          "output_type": "execute_result"
        }
      ],
      "source": [
        "dataset = CaptchaDataset(characters, 1, width, height, n_input_length, n_len)\n",
        "image, target, input_length, label_length = dataset[0]\n",
        "print(''.join([characters[x] for x in target]), input_length, label_length)\n",
        "to_pil_image(image)"
      ]
    },
    {
      "cell_type": "markdown",
      "metadata": {
        "id": "k-wY_FIdEign"
      },
      "source": [
        "# 初始化数据集生成器"
      ]
    },
    {
      "cell_type": "code",
      "execution_count": 23,
      "metadata": {
        "ExecuteTime": {
          "end_time": "2019-06-30T12:00:55.763130Z",
          "start_time": "2019-06-30T12:00:55.761037Z"
        },
        "id": "dplwAYb6Eigo"
      },
      "outputs": [],
      "source": [
        "batch_size = 128\n",
        "train_set = CaptchaDataset(characters, 1000 * batch_size, width, height, n_input_length, n_len)\n",
        "valid_set = CaptchaDataset(characters, 100 * batch_size, width, height, n_input_length, n_len)\n",
        "train_loader = DataLoader(train_set, batch_size=batch_size, num_workers=8)\n",
        "valid_loader = DataLoader(valid_set, batch_size=batch_size, num_workers=8)"
      ]
    },
    {
      "cell_type": "markdown",
      "metadata": {
        "id": "zJCyn1yjEigo"
      },
      "source": [
        "# 搭建模型"
      ]
    },
    {
      "cell_type": "code",
      "execution_count": 24,
      "metadata": {
        "ExecuteTime": {
          "end_time": "2019-06-30T12:00:55.770307Z",
          "start_time": "2019-06-30T12:00:55.764180Z"
        },
        "id": "h3k6emCJEigp"
      },
      "outputs": [],
      "source": [
        "class Model(nn.Module):\n",
        "    def __init__(self, n_classes, input_shape=(3, 64, 128)):\n",
        "        super(Model, self).__init__()\n",
        "        self.input_shape = input_shape\n",
        "        channels = [32, 64, 128, 256, 256]\n",
        "        layers = [2, 2, 2, 2, 2]\n",
        "        kernels = [3, 3, 3, 3, 3]\n",
        "        pools = [2, 2, 2, 2, (2, 1)]\n",
        "        modules = OrderedDict()\n",
        "        \n",
        "        def cba(name, in_channels, out_channels, kernel_size):\n",
        "            modules[f'conv{name}'] = nn.Conv2d(in_channels, out_channels, kernel_size,\n",
        "                                               padding=(1, 1) if kernel_size == 3 else 0)\n",
        "            modules[f'bn{name}'] = nn.BatchNorm2d(out_channels)\n",
        "            modules[f'relu{name}'] = nn.ReLU(inplace=True)\n",
        "        \n",
        "        last_channel = 3\n",
        "        for block, (n_channel, n_layer, n_kernel, k_pool) in enumerate(zip(channels, layers, kernels, pools)):\n",
        "            for layer in range(1, n_layer + 1):\n",
        "                cba(f'{block+1}{layer}', last_channel, n_channel, n_kernel)\n",
        "                last_channel = n_channel\n",
        "            modules[f'pool{block + 1}'] = nn.MaxPool2d(k_pool)\n",
        "        modules[f'dropout'] = nn.Dropout(0.25, inplace=True)\n",
        "        \n",
        "        self.cnn = nn.Sequential(modules)\n",
        "        self.lstm = nn.LSTM(input_size=self.infer_features(), hidden_size=128, num_layers=2, bidirectional=True)\n",
        "        self.fc = nn.Linear(in_features=256, out_features=n_classes)\n",
        "    \n",
        "    def infer_features(self):\n",
        "        x = torch.zeros((1,)+self.input_shape)\n",
        "        x = self.cnn(x)\n",
        "        x = x.reshape(x.shape[0], -1, x.shape[-1])\n",
        "        return x.shape[1]\n",
        "\n",
        "    def forward(self, x):\n",
        "        x = self.cnn(x)\n",
        "        x = x.reshape(x.shape[0], -1, x.shape[-1])\n",
        "        x = x.permute(2, 0, 1)\n",
        "        x, _ = self.lstm(x)\n",
        "        x = self.fc(x)\n",
        "        return x"
      ]
    },
    {
      "cell_type": "markdown",
      "metadata": {
        "id": "3pM6e-gZEigq"
      },
      "source": [
        "## 测试模型输出尺寸"
      ]
    },
    {
      "cell_type": "code",
      "execution_count": 25,
      "metadata": {
        "ExecuteTime": {
          "end_time": "2019-06-30T12:00:56.051892Z",
          "start_time": "2019-06-30T12:00:55.771360Z"
        },
        "id": "xRVk6A3EEigq",
        "outputId": "a7a18b81-555f-4dcc-ee35-45b1d4acca03"
      },
      "outputs": [
        {
          "data": {
            "text/plain": [
              "torch.Size([12, 32, 37])"
            ]
          },
          "execution_count": 25,
          "metadata": {},
          "output_type": "execute_result"
        }
      ],
      "source": [
        "model = Model(n_classes, input_shape=(3, height, width))\n",
        "inputs = torch.zeros((32, 3, height, width))\n",
        "outputs = model(inputs)\n",
        "outputs.shape"
      ]
    },
    {
      "cell_type": "markdown",
      "metadata": {
        "id": "MFgMYHAQEigr"
      },
      "source": [
        "## 初始化模型"
      ]
    },
    {
      "cell_type": "code",
      "execution_count": 26,
      "metadata": {
        "ExecuteTime": {
          "end_time": "2019-06-30T12:00:56.055787Z",
          "start_time": "2019-06-30T12:00:56.053021Z"
        },
        "id": "HP_Sr-nQEigr",
        "outputId": "52b1ce63-0ac8-4392-ba9c-fb38b4b8e0d0"
      },
      "outputs": [
        {
          "name": "stdout",
          "output_type": "stream",
          "text": [
            "crnn_20220430_235825\n"
          ]
        }
      ],
      "source": [
        "now = time.strftime(\"%Y%m%d_%H%M%S\", time.localtime())\n",
        "model_name = f'crnn_{now}'\n",
        "print(model_name)\n",
        "writer = SummaryWriter(f'logs/{model_name}')"
      ]
    },
    {
      "cell_type": "code",
      "execution_count": 27,
      "metadata": {
        "ExecuteTime": {
          "end_time": "2019-06-30T12:00:58.557789Z",
          "start_time": "2019-06-30T12:00:56.056855Z"
        },
        "id": "hj5rNpU3Eigr",
        "outputId": "d7383200-4b47-4d91-9854-12d4db1eb98b"
      },
      "outputs": [
        {
          "data": {
            "text/plain": [
              "Model(\n",
              "  (cnn): Sequential(\n",
              "    (conv11): Conv2d(3, 32, kernel_size=(3, 3), stride=(1, 1), padding=(1, 1))\n",
              "    (bn11): BatchNorm2d(32, eps=1e-05, momentum=0.1, affine=True, track_running_stats=True)\n",
              "    (relu11): ReLU(inplace=True)\n",
              "    (conv12): Conv2d(32, 32, kernel_size=(3, 3), stride=(1, 1), padding=(1, 1))\n",
              "    (bn12): BatchNorm2d(32, eps=1e-05, momentum=0.1, affine=True, track_running_stats=True)\n",
              "    (relu12): ReLU(inplace=True)\n",
              "    (pool1): MaxPool2d(kernel_size=2, stride=2, padding=0, dilation=1, ceil_mode=False)\n",
              "    (conv21): Conv2d(32, 64, kernel_size=(3, 3), stride=(1, 1), padding=(1, 1))\n",
              "    (bn21): BatchNorm2d(64, eps=1e-05, momentum=0.1, affine=True, track_running_stats=True)\n",
              "    (relu21): ReLU(inplace=True)\n",
              "    (conv22): Conv2d(64, 64, kernel_size=(3, 3), stride=(1, 1), padding=(1, 1))\n",
              "    (bn22): BatchNorm2d(64, eps=1e-05, momentum=0.1, affine=True, track_running_stats=True)\n",
              "    (relu22): ReLU(inplace=True)\n",
              "    (pool2): MaxPool2d(kernel_size=2, stride=2, padding=0, dilation=1, ceil_mode=False)\n",
              "    (conv31): Conv2d(64, 128, kernel_size=(3, 3), stride=(1, 1), padding=(1, 1))\n",
              "    (bn31): BatchNorm2d(128, eps=1e-05, momentum=0.1, affine=True, track_running_stats=True)\n",
              "    (relu31): ReLU(inplace=True)\n",
              "    (conv32): Conv2d(128, 128, kernel_size=(3, 3), stride=(1, 1), padding=(1, 1))\n",
              "    (bn32): BatchNorm2d(128, eps=1e-05, momentum=0.1, affine=True, track_running_stats=True)\n",
              "    (relu32): ReLU(inplace=True)\n",
              "    (pool3): MaxPool2d(kernel_size=2, stride=2, padding=0, dilation=1, ceil_mode=False)\n",
              "    (conv41): Conv2d(128, 256, kernel_size=(3, 3), stride=(1, 1), padding=(1, 1))\n",
              "    (bn41): BatchNorm2d(256, eps=1e-05, momentum=0.1, affine=True, track_running_stats=True)\n",
              "    (relu41): ReLU(inplace=True)\n",
              "    (conv42): Conv2d(256, 256, kernel_size=(3, 3), stride=(1, 1), padding=(1, 1))\n",
              "    (bn42): BatchNorm2d(256, eps=1e-05, momentum=0.1, affine=True, track_running_stats=True)\n",
              "    (relu42): ReLU(inplace=True)\n",
              "    (pool4): MaxPool2d(kernel_size=2, stride=2, padding=0, dilation=1, ceil_mode=False)\n",
              "    (conv51): Conv2d(256, 256, kernel_size=(3, 3), stride=(1, 1), padding=(1, 1))\n",
              "    (bn51): BatchNorm2d(256, eps=1e-05, momentum=0.1, affine=True, track_running_stats=True)\n",
              "    (relu51): ReLU(inplace=True)\n",
              "    (conv52): Conv2d(256, 256, kernel_size=(3, 3), stride=(1, 1), padding=(1, 1))\n",
              "    (bn52): BatchNorm2d(256, eps=1e-05, momentum=0.1, affine=True, track_running_stats=True)\n",
              "    (relu52): ReLU(inplace=True)\n",
              "    (pool5): MaxPool2d(kernel_size=(2, 1), stride=(2, 1), padding=0, dilation=1, ceil_mode=False)\n",
              "    (dropout): Dropout(p=0.25, inplace=True)\n",
              "  )\n",
              "  (lstm): LSTM(512, 128, num_layers=2, bidirectional=True)\n",
              "  (fc): Linear(in_features=256, out_features=37, bias=True)\n",
              ")"
            ]
          },
          "execution_count": 27,
          "metadata": {},
          "output_type": "execute_result"
        }
      ],
      "source": [
        "model = Model(n_classes, input_shape=(3, height, width))\n",
        "inputs = torch.zeros((1, 3, height, width))\n",
        "writer.add_graph(model, inputs)\n",
        "\n",
        "model = model.cuda()\n",
        "model"
      ]
    },
    {
      "cell_type": "markdown",
      "metadata": {
        "id": "4EgEVx8eEigs"
      },
      "source": [
        "# 解码函数和准确率计算函数"
      ]
    },
    {
      "cell_type": "code",
      "execution_count": 28,
      "metadata": {
        "ExecuteTime": {
          "end_time": "2019-06-30T12:00:58.568577Z",
          "start_time": "2019-06-30T12:00:58.560442Z"
        },
        "id": "KtbcyL7wEigs"
      },
      "outputs": [],
      "source": [
        "def decode(sequence):\n",
        "    a = ''.join([characters[x] for x in sequence])\n",
        "    s = ''.join([x for j, x in enumerate(a[:-1]) if x != characters[0] and x != a[j+1]])\n",
        "    if len(s) == 0:\n",
        "        return ''\n",
        "    if a[-1] != characters[0] and s[-1] != a[-1]:\n",
        "        s += a[-1]\n",
        "    return s\n",
        "\n",
        "def decode_target(sequence):\n",
        "    return ''.join([characters[x] for x in sequence]).replace(' ', '')\n",
        "\n",
        "def calc_acc(target, output):\n",
        "    output_argmax = output.detach().permute(1, 0, 2).argmax(dim=-1)\n",
        "    target = target.cpu().numpy()\n",
        "    output_argmax = output_argmax.cpu().numpy()\n",
        "    a = np.array([decode_target(true) == decode(pred) for true, pred in zip(target, output_argmax)])\n",
        "    return a.mean()"
      ]
    },
    {
      "cell_type": "markdown",
      "metadata": {
        "id": "v55rHe_yEigt"
      },
      "source": [
        "# 训练模型"
      ]
    },
    {
      "cell_type": "code",
      "execution_count": 29,
      "metadata": {
        "ExecuteTime": {
          "end_time": "2019-06-30T12:00:58.582705Z",
          "start_time": "2019-06-30T12:00:58.570023Z"
        },
        "id": "CgAlejs3Eigt"
      },
      "outputs": [],
      "source": [
        "def train(model, optimizer, epoch, dataloader, writer):\n",
        "    model.train()\n",
        "    loss_mean = 0\n",
        "    acc_mean = 0\n",
        "    with tqdm(dataloader) as pbar:\n",
        "        for batch_index, (data, target, input_lengths, target_lengths) in enumerate(pbar):\n",
        "            data, target = data.cuda(), target.cuda()\n",
        "            \n",
        "            optimizer.zero_grad()\n",
        "            output = model(data)\n",
        "            \n",
        "            output_log_softmax = F.log_softmax(output, dim=-1)\n",
        "            loss = F.ctc_loss(output_log_softmax, target, input_lengths, target_lengths)\n",
        "            \n",
        "            loss.backward()\n",
        "            optimizer.step()\n",
        "\n",
        "            loss = loss.item()\n",
        "            acc = calc_acc(target, output)\n",
        "            \n",
        "            iteration = (epoch - 1) * len(dataloader) + batch_index\n",
        "            writer.add_scalar('train/loss', loss, iteration)\n",
        "            writer.add_scalar('train/acc', acc, iteration)\n",
        "            writer.add_scalar('train/error_rate', 1 - acc, iteration)\n",
        "            \n",
        "            if batch_index == 0:\n",
        "                loss_mean = loss\n",
        "                acc_mean = acc\n",
        "            \n",
        "            loss_mean = 0.1 * loss + 0.9 * loss_mean\n",
        "            acc_mean = 0.1 * acc + 0.9 * acc_mean\n",
        "            \n",
        "            pbar.set_description(f'Epoch: {epoch} Loss: {loss_mean:.4f} Acc: {acc_mean:.4f} ')\n",
        "    \n",
        "    # draw badcase\n",
        "    with torch.no_grad():\n",
        "        output_argmax = output.detach().permute(1, 0, 2).argmax(dim=-1)\n",
        "        loss = F.ctc_loss(output_log_softmax, target, input_lengths, target_lengths, reduction='none')\n",
        "        hard_sample = np.argsort(loss.detach().cpu().numpy())[::-1]\n",
        "        data = data.cpu()\n",
        "        target = target.cpu()\n",
        "\n",
        "        nrow = 4\n",
        "        ncol = 4\n",
        "        fig = plt.figure(figsize=(12, 6))\n",
        "        for i, index in enumerate(hard_sample[:nrow*ncol]):\n",
        "            plt.subplot(ncol, nrow, i+1)\n",
        "            plt.axis('off')\n",
        "            plt.imshow(data[index].numpy().transpose(1, 2, 0))\n",
        "            s = f'true: {decode_target(target[index])}\\npred: {decode(output_argmax[index])}'\n",
        "            plt.title(s)\n",
        "\n",
        "        fig.canvas.draw()\n",
        "        image = np.array(fig.canvas.renderer.buffer_rgba())\n",
        "        plt.close()\n",
        "        writer.add_image('train/badcase', to_tensor(image), epoch)\n",
        "    \n",
        "    return loss_mean, acc_mean\n",
        "\n",
        "def valid(model, epoch, dataloader, writer):\n",
        "    model.eval()\n",
        "    with tqdm(dataloader) as pbar, torch.no_grad():\n",
        "        loss_sum = 0\n",
        "        acc_sum = 0\n",
        "        for batch_index, (data, target, input_lengths, target_lengths) in enumerate(pbar):\n",
        "            data, target = data.cuda(), target.cuda()\n",
        "            \n",
        "            output = model(data)\n",
        "            output_log_softmax = F.log_softmax(output, dim=-1)\n",
        "            loss = F.ctc_loss(output_log_softmax, target, input_lengths, target_lengths)\n",
        "            \n",
        "            loss = loss.item()\n",
        "            acc = calc_acc(target, output)\n",
        "            \n",
        "            loss_sum += loss\n",
        "            acc_sum += acc\n",
        "            \n",
        "            loss_mean = loss_sum / (batch_index + 1)\n",
        "            acc_mean = acc_sum / (batch_index + 1)\n",
        "            \n",
        "            pbar.set_description(f'Test : {epoch} Loss: {loss_mean:.4f} Acc: {acc_mean:.4f} ')\n",
        "    return loss_mean, acc_mean"
      ]
    },
    {
      "cell_type": "code",
      "execution_count": 30,
      "metadata": {
        "ExecuteTime": {
          "end_time": "2019-06-30T13:00:15.340917Z",
          "start_time": "2019-06-30T12:00:58.584153Z"
        },
        "id": "mRsUEKmBEigu",
        "outputId": "bc37346d-6a07-494d-c8f8-f3513ef792c8"
      },
      "outputs": [
        {
          "name": "stderr",
          "output_type": "stream",
          "text": [
            "  0%|          | 0/1000 [00:26<?, ?it/s]\n"
          ]
        },
        {
          "ename": "RuntimeError",
          "evalue": "DataLoader worker (pid(s) 6824, 15120, 13068, 10236, 5544, 25108, 22188, 1324) exited unexpectedly",
          "output_type": "error",
          "traceback": [
            "\u001b[1;31m---------------------------------------------------------------------------\u001b[0m",
            "\u001b[1;31mEmpty\u001b[0m                                     Traceback (most recent call last)",
            "File \u001b[1;32mD:\\Anaconda3\\envs\\project\\lib\\site-packages\\torch\\utils\\data\\dataloader.py:986\u001b[0m, in \u001b[0;36m_MultiProcessingDataLoaderIter._try_get_data\u001b[1;34m(self, timeout)\u001b[0m\n\u001b[0;32m    <a href='file:///d%3A/Anaconda3/envs/project/lib/site-packages/torch/utils/data/dataloader.py?line=984'>985</a>\u001b[0m \u001b[39mtry\u001b[39;00m:\n\u001b[1;32m--> <a href='file:///d%3A/Anaconda3/envs/project/lib/site-packages/torch/utils/data/dataloader.py?line=985'>986</a>\u001b[0m     data \u001b[39m=\u001b[39m \u001b[39mself\u001b[39;49m\u001b[39m.\u001b[39;49m_data_queue\u001b[39m.\u001b[39;49mget(timeout\u001b[39m=\u001b[39;49mtimeout)\n\u001b[0;32m    <a href='file:///d%3A/Anaconda3/envs/project/lib/site-packages/torch/utils/data/dataloader.py?line=986'>987</a>\u001b[0m     \u001b[39mreturn\u001b[39;00m (\u001b[39mTrue\u001b[39;00m, data)\n",
            "File \u001b[1;32mD:\\Anaconda3\\envs\\project\\lib\\multiprocessing\\queues.py:108\u001b[0m, in \u001b[0;36mQueue.get\u001b[1;34m(self, block, timeout)\u001b[0m\n\u001b[0;32m    <a href='file:///d%3A/Anaconda3/envs/project/lib/multiprocessing/queues.py?line=106'>107</a>\u001b[0m     \u001b[39mif\u001b[39;00m \u001b[39mnot\u001b[39;00m \u001b[39mself\u001b[39m\u001b[39m.\u001b[39m_poll(timeout):\n\u001b[1;32m--> <a href='file:///d%3A/Anaconda3/envs/project/lib/multiprocessing/queues.py?line=107'>108</a>\u001b[0m         \u001b[39mraise\u001b[39;00m Empty\n\u001b[0;32m    <a href='file:///d%3A/Anaconda3/envs/project/lib/multiprocessing/queues.py?line=108'>109</a>\u001b[0m \u001b[39melif\u001b[39;00m \u001b[39mnot\u001b[39;00m \u001b[39mself\u001b[39m\u001b[39m.\u001b[39m_poll():\n",
            "\u001b[1;31mEmpty\u001b[0m: ",
            "\nThe above exception was the direct cause of the following exception:\n",
            "\u001b[1;31mRuntimeError\u001b[0m                              Traceback (most recent call last)",
            "\u001b[1;32mc:\\Users\\86137\\Documents\\GitHub\\CRNN-pytorch\\ctc_pytorch_tensorboard.ipynb Cell 20'\u001b[0m in \u001b[0;36m<cell line: 3>\u001b[1;34m()\u001b[0m\n\u001b[0;32m      <a href='vscode-notebook-cell:/c%3A/Users/86137/Documents/GitHub/CRNN-pytorch/ctc_pytorch_tensorboard.ipynb#ch0000019?line=1'>2</a>\u001b[0m epochs \u001b[39m=\u001b[39m \u001b[39m30\u001b[39m\n\u001b[0;32m      <a href='vscode-notebook-cell:/c%3A/Users/86137/Documents/GitHub/CRNN-pytorch/ctc_pytorch_tensorboard.ipynb#ch0000019?line=2'>3</a>\u001b[0m \u001b[39mfor\u001b[39;00m epoch \u001b[39min\u001b[39;00m \u001b[39mrange\u001b[39m(\u001b[39m1\u001b[39m, epochs \u001b[39m+\u001b[39m \u001b[39m1\u001b[39m):\n\u001b[1;32m----> <a href='vscode-notebook-cell:/c%3A/Users/86137/Documents/GitHub/CRNN-pytorch/ctc_pytorch_tensorboard.ipynb#ch0000019?line=3'>4</a>\u001b[0m     train_loss, train_acc \u001b[39m=\u001b[39m train(model, optimizer, epoch, train_loader, writer)\n\u001b[0;32m      <a href='vscode-notebook-cell:/c%3A/Users/86137/Documents/GitHub/CRNN-pytorch/ctc_pytorch_tensorboard.ipynb#ch0000019?line=4'>5</a>\u001b[0m     valid_loss, valid_acc \u001b[39m=\u001b[39m valid(model, epoch, valid_loader, writer)\n\u001b[0;32m      <a href='vscode-notebook-cell:/c%3A/Users/86137/Documents/GitHub/CRNN-pytorch/ctc_pytorch_tensorboard.ipynb#ch0000019?line=6'>7</a>\u001b[0m     writer\u001b[39m.\u001b[39madd_scalars(\u001b[39m'\u001b[39m\u001b[39mepoch/loss\u001b[39m\u001b[39m'\u001b[39m, {\u001b[39m'\u001b[39m\u001b[39mtrain\u001b[39m\u001b[39m'\u001b[39m: train_loss, \u001b[39m'\u001b[39m\u001b[39mvalid\u001b[39m\u001b[39m'\u001b[39m: valid_loss}, epoch)\n",
            "\u001b[1;32mc:\\Users\\86137\\Documents\\GitHub\\CRNN-pytorch\\ctc_pytorch_tensorboard.ipynb Cell 19'\u001b[0m in \u001b[0;36mtrain\u001b[1;34m(model, optimizer, epoch, dataloader, writer)\u001b[0m\n\u001b[0;32m      <a href='vscode-notebook-cell:/c%3A/Users/86137/Documents/GitHub/CRNN-pytorch/ctc_pytorch_tensorboard.ipynb#ch0000018?line=3'>4</a>\u001b[0m acc_mean \u001b[39m=\u001b[39m \u001b[39m0\u001b[39m\n\u001b[0;32m      <a href='vscode-notebook-cell:/c%3A/Users/86137/Documents/GitHub/CRNN-pytorch/ctc_pytorch_tensorboard.ipynb#ch0000018?line=4'>5</a>\u001b[0m \u001b[39mwith\u001b[39;00m tqdm(dataloader) \u001b[39mas\u001b[39;00m pbar:\n\u001b[1;32m----> <a href='vscode-notebook-cell:/c%3A/Users/86137/Documents/GitHub/CRNN-pytorch/ctc_pytorch_tensorboard.ipynb#ch0000018?line=5'>6</a>\u001b[0m     \u001b[39mfor\u001b[39;00m batch_index, (data, target, input_lengths, target_lengths) \u001b[39min\u001b[39;00m \u001b[39menumerate\u001b[39m(pbar):\n\u001b[0;32m      <a href='vscode-notebook-cell:/c%3A/Users/86137/Documents/GitHub/CRNN-pytorch/ctc_pytorch_tensorboard.ipynb#ch0000018?line=6'>7</a>\u001b[0m         data, target \u001b[39m=\u001b[39m data\u001b[39m.\u001b[39mcuda(), target\u001b[39m.\u001b[39mcuda()\n\u001b[0;32m      <a href='vscode-notebook-cell:/c%3A/Users/86137/Documents/GitHub/CRNN-pytorch/ctc_pytorch_tensorboard.ipynb#ch0000018?line=8'>9</a>\u001b[0m         optimizer\u001b[39m.\u001b[39mzero_grad()\n",
            "File \u001b[1;32mD:\\Anaconda3\\envs\\project\\lib\\site-packages\\tqdm\\std.py:1178\u001b[0m, in \u001b[0;36mtqdm.__iter__\u001b[1;34m(self)\u001b[0m\n\u001b[0;32m   <a href='file:///d%3A/Anaconda3/envs/project/lib/site-packages/tqdm/std.py?line=1174'>1175</a>\u001b[0m time \u001b[39m=\u001b[39m \u001b[39mself\u001b[39m\u001b[39m.\u001b[39m_time\n\u001b[0;32m   <a href='file:///d%3A/Anaconda3/envs/project/lib/site-packages/tqdm/std.py?line=1176'>1177</a>\u001b[0m \u001b[39mtry\u001b[39;00m:\n\u001b[1;32m-> <a href='file:///d%3A/Anaconda3/envs/project/lib/site-packages/tqdm/std.py?line=1177'>1178</a>\u001b[0m     \u001b[39mfor\u001b[39;00m obj \u001b[39min\u001b[39;00m iterable:\n\u001b[0;32m   <a href='file:///d%3A/Anaconda3/envs/project/lib/site-packages/tqdm/std.py?line=1178'>1179</a>\u001b[0m         \u001b[39myield\u001b[39;00m obj\n\u001b[0;32m   <a href='file:///d%3A/Anaconda3/envs/project/lib/site-packages/tqdm/std.py?line=1179'>1180</a>\u001b[0m         \u001b[39m# Update and possibly print the progressbar.\u001b[39;00m\n\u001b[0;32m   <a href='file:///d%3A/Anaconda3/envs/project/lib/site-packages/tqdm/std.py?line=1180'>1181</a>\u001b[0m         \u001b[39m# Note: does not call self.update(1) for speed optimisation.\u001b[39;00m\n",
            "File \u001b[1;32mD:\\Anaconda3\\envs\\project\\lib\\site-packages\\torch\\utils\\data\\dataloader.py:517\u001b[0m, in \u001b[0;36m_BaseDataLoaderIter.__next__\u001b[1;34m(self)\u001b[0m\n\u001b[0;32m    <a href='file:///d%3A/Anaconda3/envs/project/lib/site-packages/torch/utils/data/dataloader.py?line=514'>515</a>\u001b[0m \u001b[39mif\u001b[39;00m \u001b[39mself\u001b[39m\u001b[39m.\u001b[39m_sampler_iter \u001b[39mis\u001b[39;00m \u001b[39mNone\u001b[39;00m:\n\u001b[0;32m    <a href='file:///d%3A/Anaconda3/envs/project/lib/site-packages/torch/utils/data/dataloader.py?line=515'>516</a>\u001b[0m     \u001b[39mself\u001b[39m\u001b[39m.\u001b[39m_reset()\n\u001b[1;32m--> <a href='file:///d%3A/Anaconda3/envs/project/lib/site-packages/torch/utils/data/dataloader.py?line=516'>517</a>\u001b[0m data \u001b[39m=\u001b[39m \u001b[39mself\u001b[39;49m\u001b[39m.\u001b[39;49m_next_data()\n\u001b[0;32m    <a href='file:///d%3A/Anaconda3/envs/project/lib/site-packages/torch/utils/data/dataloader.py?line=517'>518</a>\u001b[0m \u001b[39mself\u001b[39m\u001b[39m.\u001b[39m_num_yielded \u001b[39m+\u001b[39m\u001b[39m=\u001b[39m \u001b[39m1\u001b[39m\n\u001b[0;32m    <a href='file:///d%3A/Anaconda3/envs/project/lib/site-packages/torch/utils/data/dataloader.py?line=518'>519</a>\u001b[0m \u001b[39mif\u001b[39;00m \u001b[39mself\u001b[39m\u001b[39m.\u001b[39m_dataset_kind \u001b[39m==\u001b[39m _DatasetKind\u001b[39m.\u001b[39mIterable \u001b[39mand\u001b[39;00m \\\n\u001b[0;32m    <a href='file:///d%3A/Anaconda3/envs/project/lib/site-packages/torch/utils/data/dataloader.py?line=519'>520</a>\u001b[0m         \u001b[39mself\u001b[39m\u001b[39m.\u001b[39m_IterableDataset_len_called \u001b[39mis\u001b[39;00m \u001b[39mnot\u001b[39;00m \u001b[39mNone\u001b[39;00m \u001b[39mand\u001b[39;00m \\\n\u001b[0;32m    <a href='file:///d%3A/Anaconda3/envs/project/lib/site-packages/torch/utils/data/dataloader.py?line=520'>521</a>\u001b[0m         \u001b[39mself\u001b[39m\u001b[39m.\u001b[39m_num_yielded \u001b[39m>\u001b[39m \u001b[39mself\u001b[39m\u001b[39m.\u001b[39m_IterableDataset_len_called:\n",
            "File \u001b[1;32mD:\\Anaconda3\\envs\\project\\lib\\site-packages\\torch\\utils\\data\\dataloader.py:1182\u001b[0m, in \u001b[0;36m_MultiProcessingDataLoaderIter._next_data\u001b[1;34m(self)\u001b[0m\n\u001b[0;32m   <a href='file:///d%3A/Anaconda3/envs/project/lib/site-packages/torch/utils/data/dataloader.py?line=1178'>1179</a>\u001b[0m     \u001b[39mreturn\u001b[39;00m \u001b[39mself\u001b[39m\u001b[39m.\u001b[39m_process_data(data)\n\u001b[0;32m   <a href='file:///d%3A/Anaconda3/envs/project/lib/site-packages/torch/utils/data/dataloader.py?line=1180'>1181</a>\u001b[0m \u001b[39massert\u001b[39;00m \u001b[39mnot\u001b[39;00m \u001b[39mself\u001b[39m\u001b[39m.\u001b[39m_shutdown \u001b[39mand\u001b[39;00m \u001b[39mself\u001b[39m\u001b[39m.\u001b[39m_tasks_outstanding \u001b[39m>\u001b[39m \u001b[39m0\u001b[39m\n\u001b[1;32m-> <a href='file:///d%3A/Anaconda3/envs/project/lib/site-packages/torch/utils/data/dataloader.py?line=1181'>1182</a>\u001b[0m idx, data \u001b[39m=\u001b[39m \u001b[39mself\u001b[39;49m\u001b[39m.\u001b[39;49m_get_data()\n\u001b[0;32m   <a href='file:///d%3A/Anaconda3/envs/project/lib/site-packages/torch/utils/data/dataloader.py?line=1182'>1183</a>\u001b[0m \u001b[39mself\u001b[39m\u001b[39m.\u001b[39m_tasks_outstanding \u001b[39m-\u001b[39m\u001b[39m=\u001b[39m \u001b[39m1\u001b[39m\n\u001b[0;32m   <a href='file:///d%3A/Anaconda3/envs/project/lib/site-packages/torch/utils/data/dataloader.py?line=1183'>1184</a>\u001b[0m \u001b[39mif\u001b[39;00m \u001b[39mself\u001b[39m\u001b[39m.\u001b[39m_dataset_kind \u001b[39m==\u001b[39m _DatasetKind\u001b[39m.\u001b[39mIterable:\n\u001b[0;32m   <a href='file:///d%3A/Anaconda3/envs/project/lib/site-packages/torch/utils/data/dataloader.py?line=1184'>1185</a>\u001b[0m     \u001b[39m# Check for _IterableDatasetStopIteration\u001b[39;00m\n",
            "File \u001b[1;32mD:\\Anaconda3\\envs\\project\\lib\\site-packages\\torch\\utils\\data\\dataloader.py:1148\u001b[0m, in \u001b[0;36m_MultiProcessingDataLoaderIter._get_data\u001b[1;34m(self)\u001b[0m\n\u001b[0;32m   <a href='file:///d%3A/Anaconda3/envs/project/lib/site-packages/torch/utils/data/dataloader.py?line=1143'>1144</a>\u001b[0m     \u001b[39m# In this case, `self._data_queue` is a `queue.Queue`,. But we don't\u001b[39;00m\n\u001b[0;32m   <a href='file:///d%3A/Anaconda3/envs/project/lib/site-packages/torch/utils/data/dataloader.py?line=1144'>1145</a>\u001b[0m     \u001b[39m# need to call `.task_done()` because we don't use `.join()`.\u001b[39;00m\n\u001b[0;32m   <a href='file:///d%3A/Anaconda3/envs/project/lib/site-packages/torch/utils/data/dataloader.py?line=1145'>1146</a>\u001b[0m \u001b[39melse\u001b[39;00m:\n\u001b[0;32m   <a href='file:///d%3A/Anaconda3/envs/project/lib/site-packages/torch/utils/data/dataloader.py?line=1146'>1147</a>\u001b[0m     \u001b[39mwhile\u001b[39;00m \u001b[39mTrue\u001b[39;00m:\n\u001b[1;32m-> <a href='file:///d%3A/Anaconda3/envs/project/lib/site-packages/torch/utils/data/dataloader.py?line=1147'>1148</a>\u001b[0m         success, data \u001b[39m=\u001b[39m \u001b[39mself\u001b[39;49m\u001b[39m.\u001b[39;49m_try_get_data()\n\u001b[0;32m   <a href='file:///d%3A/Anaconda3/envs/project/lib/site-packages/torch/utils/data/dataloader.py?line=1148'>1149</a>\u001b[0m         \u001b[39mif\u001b[39;00m success:\n\u001b[0;32m   <a href='file:///d%3A/Anaconda3/envs/project/lib/site-packages/torch/utils/data/dataloader.py?line=1149'>1150</a>\u001b[0m             \u001b[39mreturn\u001b[39;00m data\n",
            "File \u001b[1;32mD:\\Anaconda3\\envs\\project\\lib\\site-packages\\torch\\utils\\data\\dataloader.py:999\u001b[0m, in \u001b[0;36m_MultiProcessingDataLoaderIter._try_get_data\u001b[1;34m(self, timeout)\u001b[0m\n\u001b[0;32m    <a href='file:///d%3A/Anaconda3/envs/project/lib/site-packages/torch/utils/data/dataloader.py?line=996'>997</a>\u001b[0m \u001b[39mif\u001b[39;00m \u001b[39mlen\u001b[39m(failed_workers) \u001b[39m>\u001b[39m \u001b[39m0\u001b[39m:\n\u001b[0;32m    <a href='file:///d%3A/Anaconda3/envs/project/lib/site-packages/torch/utils/data/dataloader.py?line=997'>998</a>\u001b[0m     pids_str \u001b[39m=\u001b[39m \u001b[39m'\u001b[39m\u001b[39m, \u001b[39m\u001b[39m'\u001b[39m\u001b[39m.\u001b[39mjoin(\u001b[39mstr\u001b[39m(w\u001b[39m.\u001b[39mpid) \u001b[39mfor\u001b[39;00m w \u001b[39min\u001b[39;00m failed_workers)\n\u001b[1;32m--> <a href='file:///d%3A/Anaconda3/envs/project/lib/site-packages/torch/utils/data/dataloader.py?line=998'>999</a>\u001b[0m     \u001b[39mraise\u001b[39;00m \u001b[39mRuntimeError\u001b[39;00m(\u001b[39m'\u001b[39m\u001b[39mDataLoader worker (pid(s) \u001b[39m\u001b[39m{}\u001b[39;00m\u001b[39m) exited unexpectedly\u001b[39m\u001b[39m'\u001b[39m\u001b[39m.\u001b[39mformat(pids_str)) \u001b[39mfrom\u001b[39;00m \u001b[39me\u001b[39;00m\n\u001b[0;32m   <a href='file:///d%3A/Anaconda3/envs/project/lib/site-packages/torch/utils/data/dataloader.py?line=999'>1000</a>\u001b[0m \u001b[39mif\u001b[39;00m \u001b[39misinstance\u001b[39m(e, queue\u001b[39m.\u001b[39mEmpty):\n\u001b[0;32m   <a href='file:///d%3A/Anaconda3/envs/project/lib/site-packages/torch/utils/data/dataloader.py?line=1000'>1001</a>\u001b[0m     \u001b[39mreturn\u001b[39;00m (\u001b[39mFalse\u001b[39;00m, \u001b[39mNone\u001b[39;00m)\n",
            "\u001b[1;31mRuntimeError\u001b[0m: DataLoader worker (pid(s) 6824, 15120, 13068, 10236, 5544, 25108, 22188, 1324) exited unexpectedly"
          ]
        }
      ],
      "source": [
        "optimizer = torch.optim.Adam(model.parameters(), 1e-4)\n",
        "epochs = 30\n",
        "for epoch in range(1, epochs + 1):\n",
        "    train_loss, train_acc = train(model, optimizer, epoch, train_loader, writer)\n",
        "    valid_loss, valid_acc = valid(model, epoch, valid_loader, writer)\n",
        "    \n",
        "    writer.add_scalars('epoch/loss', {'train': train_loss, 'valid': valid_loss}, epoch)\n",
        "    writer.add_scalars('epoch/acc', {'train': train_acc, 'valid': valid_acc}, epoch)\n",
        "    writer.add_scalars('epoch/error_rate', {'train': 1 - train_acc, 'valid': 1 - valid_acc}, epoch)"
      ]
    },
    {
      "cell_type": "code",
      "execution_count": null,
      "metadata": {
        "ExecuteTime": {
          "end_time": "2019-06-30T13:20:02.284933Z",
          "start_time": "2019-06-30T13:00:15.342559Z"
        },
        "id": "08iLqEVuEigu",
        "outputId": "e174a535-1336-427a-e8a6-acbddb67cea3"
      },
      "outputs": [
        {
          "name": "stderr",
          "output_type": "stream",
          "text": [
            "Epoch: 30 Loss: 0.0051 Acc: 0.9924 : 100%|██████████| 1000/1000 [01:52<00:00,  8.92it/s]\n",
            "Test : 30 Loss: 0.0056 Acc: 0.9920 : 100%|██████████| 100/100 [00:05<00:00, 26.17it/s]\n",
            "Epoch: 31 Loss: 0.0036 Acc: 0.9941 : 100%|██████████| 1000/1000 [01:52<00:00,  9.16it/s]\n",
            "Test : 31 Loss: 0.0034 Acc: 0.9952 : 100%|██████████| 100/100 [00:05<00:00, 17.87it/s]\n",
            "Epoch: 32 Loss: 0.0036 Acc: 0.9947 : 100%|██████████| 1000/1000 [01:52<00:00,  9.01it/s]\n",
            "Test : 32 Loss: 0.0034 Acc: 0.9943 : 100%|██████████| 100/100 [00:05<00:00, 17.63it/s]\n",
            "Epoch: 33 Loss: 0.0039 Acc: 0.9938 : 100%|██████████| 1000/1000 [01:52<00:00,  8.85it/s]\n",
            "Test : 33 Loss: 0.0045 Acc: 0.9930 : 100%|██████████| 100/100 [00:05<00:00, 25.45it/s]\n",
            "Epoch: 34 Loss: 0.0025 Acc: 0.9957 : 100%|██████████| 1000/1000 [01:52<00:00,  8.86it/s]\n",
            "Test : 34 Loss: 0.0034 Acc: 0.9949 : 100%|██████████| 100/100 [00:05<00:00, 17.71it/s]\n",
            "Epoch: 35 Loss: 0.0024 Acc: 0.9976 : 100%|██████████| 1000/1000 [01:52<00:00,  8.93it/s]\n",
            "Test : 35 Loss: 0.0030 Acc: 0.9956 : 100%|██████████| 100/100 [00:05<00:00, 26.16it/s]\n",
            "Epoch: 36 Loss: 0.0038 Acc: 0.9946 : 100%|██████████| 1000/1000 [01:52<00:00,  9.01it/s]\n",
            "Test : 36 Loss: 0.0031 Acc: 0.9953 : 100%|██████████| 100/100 [00:05<00:00, 17.87it/s]\n",
            "Epoch: 37 Loss: 0.0023 Acc: 0.9970 : 100%|██████████| 1000/1000 [01:52<00:00,  8.93it/s]\n",
            "Test : 37 Loss: 0.0037 Acc: 0.9957 : 100%|██████████| 100/100 [00:05<00:00, 17.51it/s]\n",
            "Epoch: 38 Loss: 0.0025 Acc: 0.9962 : 100%|██████████| 1000/1000 [01:52<00:00,  8.81it/s]\n",
            "Test : 38 Loss: 0.0032 Acc: 0.9954 : 100%|██████████| 100/100 [00:05<00:00, 17.49it/s]\n",
            "Epoch: 39 Loss: 0.0034 Acc: 0.9960 : 100%|██████████| 1000/1000 [01:52<00:00,  8.94it/s]\n",
            "Test : 39 Loss: 0.0030 Acc: 0.9957 : 100%|██████████| 100/100 [00:05<00:00, 17.56it/s]\n"
          ]
        }
      ],
      "source": [
        "optimizer = torch.optim.Adam(model.parameters(), 1e-5)\n",
        "epochs2 = 10\n",
        "for epoch in range(epochs, epochs + epochs2):\n",
        "    train_loss, train_acc = train(model, optimizer, epoch, train_loader, writer)\n",
        "    valid_loss, valid_acc = valid(model, epoch, valid_loader, writer)\n",
        "    \n",
        "    writer.add_scalars('epoch/loss', {'train': train_loss, 'valid': valid_loss}, epoch)\n",
        "    writer.add_scalars('epoch/acc', {'train': train_acc, 'valid': valid_acc}, epoch)\n",
        "    writer.add_scalars('epoch/error_rate', {'train': 1 - train_acc, 'valid': 1 - valid_acc}, epoch)"
      ]
    },
    {
      "cell_type": "markdown",
      "metadata": {
        "id": "HGHjGAMYEigu"
      },
      "source": [
        "# 测试模型输出"
      ]
    },
    {
      "cell_type": "code",
      "execution_count": null,
      "metadata": {
        "ExecuteTime": {
          "end_time": "2019-06-30T13:53:33.479222Z",
          "start_time": "2019-06-30T13:53:33.432493Z"
        },
        "id": "6qv6NG_8Eigu",
        "outputId": "e69e2fbd-bb18-4c28-e23e-bbbf19392a9d",
        "scrolled": true
      },
      "outputs": [
        {
          "name": "stdout",
          "output_type": "stream",
          "text": [
            "true: 0IB0 pred: OIB0\n",
            "O--I-B--0---\n"
          ]
        },
        {
          "data": {
            "image/png": "[encoded data removed]",
            "text/plain": [
              "<PIL.Image.Image image mode=RGB size=192x64 at 0x7FB8987C2A20>"
            ]
          },
          "execution_count": 18,
          "metadata": {},
          "output_type": "execute_result"
        }
      ],
      "source": [
        "model.eval()\n",
        "do = True\n",
        "while do or decode_target(target) == decode(output_argmax[0]):\n",
        "    do = False\n",
        "    image, target, input_length, label_length = dataset[0]\n",
        "\n",
        "    output = model(image.unsqueeze(0).cuda())\n",
        "    output_argmax = output.detach().permute(1, 0, 2).argmax(dim=-1)\n",
        "#     print(f'true: {decode_target(target)} pred: {decode(output_argmax[0])}')\n",
        "\n",
        "print(f'true: {decode_target(target)} pred: {decode(output_argmax[0])}')\n",
        "print(''.join([characters[x] for x in output_argmax[0]]))\n",
        "to_pil_image(image)"
      ]
    },
    {
      "cell_type": "code",
      "execution_count": null,
      "metadata": {
        "ExecuteTime": {
          "end_time": "2019-06-30T13:53:34.099024Z",
          "start_time": "2019-06-30T13:53:34.064228Z"
        },
        "id": "XyUYzEf1Eigv",
        "outputId": "58c03909-1545-4e0b-af81-1e39b8ac2618"
      },
      "outputs": [
        {
          "name": "stderr",
          "output_type": "stream",
          "text": [
            "/home/ypw/anaconda3/lib/python3.6/site-packages/torch/serialization.py:256: UserWarning: Couldn't retrieve source code for container of type Model. It won't be checked for correctness upon loading.\n",
            "  \"type \" + obj.__name__ + \". It won't be checked \"\n"
          ]
        }
      ],
      "source": [
        "torch.save(model, 'ctc.pth')"
      ]
    },
    {
      "cell_type": "code",
      "execution_count": null,
      "metadata": {
        "id": "z4W6oStiEigv"
      },
      "outputs": [],
      "source": []
    }
  ],
  "metadata": {
    "colab": {
      "name": "ctc_pytorch_tensorboard.ipynb",
      "provenance": []
    },
    "kernelspec": {
      "display_name": "Python 3",
      "language": "python",
      "name": "python3"
    },
    "language_info": {
      "codemirror_mode": {
        "name": "ipython",
        "version": 3
      },
      "file_extension": ".py",
      "mimetype": "text/x-python",
      "name": "python",
      "nbconvert_exporter": "python",
      "pygments_lexer": "ipython3",
      "version": "3.8.13"
    }
  },
  "nbformat": 4,
  "nbformat_minor": 0
}
